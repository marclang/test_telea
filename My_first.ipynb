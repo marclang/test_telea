{
 "cells": [
  {
   "cell_type": "code",
   "execution_count": null,
   "id": "a4ecd98c-7cb5-4766-a5ec-d14e7ef52e66",
   "metadata": {},
   "outputs": [],
   "source": [
    "my_folder = \"data/td_read_and_write\""
   ]
  }
 ],
 "metadata": {
  "kernelspec": {
   "display_name": "Python 3 (ipykernel)",
   "language": "python",
   "name": "python3"
  },
  "language_info": {
   "codemirror_mode": {
    "name": "ipython",
    "version": 3
   },
   "file_extension": ".py",
   "mimetype": "text/x-python",
   "name": "python",
   "nbconvert_exporter": "python",
   "pygments_lexer": "ipython3",
   "version": "3.12.6"
  }
 },
 "nbformat": 4,
 "nbformat_minor": 5
}
