{
 "cells": [
  {
   "cell_type": "markdown",
   "metadata": {},
   "source": [
    "gdalwarp -s_srs EPSG:32631 -t_srs EPSG:2154 -dstnodata 0.0 -r near -of GTiff SENTINEL2A_20210224-105858-431_L2A_T31TCJ_C_V2-2_FRE_B8.tif OUTPUT.tif"
   ]
  },
  {
   "cell_type": "code",
   "execution_count": 2,
   "metadata": {},
   "outputs": [
    {
     "name": "stdout",
     "output_type": "stream",
     "text": [
      "Creating output file that is 10992P x 10991L.\n",
      "Processing ../data/test_img/SENTINEL2A_20210224-105858-431_L2A_T31TCJ_C_V2-2_FRE_B8.tif [1/1] : 0...10...20...30...40...50...60...70...80...90...100 - done.\n"
     ]
    },
    {
     "data": {
      "text/plain": [
       "0"
      ]
     },
     "execution_count": 2,
     "metadata": {},
     "output_type": "execute_result"
    }
   ],
   "source": [
    "import os\n",
    "cmd = \"gdalwarp -s_srs EPSG:32631 -t_srs EPSG:2154 -dstnodata 0.0 -r near -of GTiff ../data/test_img/SENTINEL2A_20210224-105858-431_L2A_T31TCJ_C_V2-2_FRE_B8.tif OUTPUT.tif\"\n",
    "os.system(cmd)"
   ]
  }
 ],
 "metadata": {
  "kernelspec": {
   "display_name": "base",
   "language": "python",
   "name": "python3"
  },
  "language_info": {
   "codemirror_mode": {
    "name": "ipython",
    "version": 3
   },
   "file_extension": ".py",
   "mimetype": "text/x-python",
   "name": "python",
   "nbconvert_exporter": "python",
   "pygments_lexer": "ipython3",
   "version": "3.12.6"
  }
 },
 "nbformat": 4,
 "nbformat_minor": 2
}
